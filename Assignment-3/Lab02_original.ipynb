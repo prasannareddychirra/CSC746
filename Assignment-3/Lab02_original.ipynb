{
 "cells": [
  {
   "cell_type": "markdown",
   "metadata": {},
   "source": [
    "# Setup\n",
    "\n",
    "First, let's import a few common modules, ensure MatplotLib plots figures inline and prepare a function to save the figures. We also check that Python 3.5 or later is installed, as well as Scikit-Learn ≥0.20. You don't need to change any code in the following cell, just run it."
   ]
  },
  {
   "cell_type": "code",
   "execution_count": 1,
   "metadata": {},
   "outputs": [],
   "source": [
    "# Python ≥3.5 is required\n",
    "import sys\n",
    "assert sys.version_info >= (3, 5)\n",
    "\n",
    "# Scikit-Learn ≥0.20 is required\n",
    "import sklearn\n",
    "assert sklearn.__version__ >= \"0.20\"\n",
    "\n",
    "# Common imports\n",
    "import numpy as np\n",
    "import os\n",
    "\n",
    "# to make this notebook's output stable across runs\n",
    "np.random.seed(42)\n",
    "\n",
    "# To plot pretty figures\n",
    "%matplotlib inline\n",
    "import matplotlib as mpl\n",
    "import matplotlib.pyplot as plt\n",
    "mpl.rc('axes', labelsize=14)\n",
    "mpl.rc('xtick', labelsize=12)\n",
    "mpl.rc('ytick', labelsize=12)\n",
    "\n",
    "# Where to save the figures\n",
    "PROJECT_ROOT_DIR = \".\"\n",
    "CHAPTER_ID = \"training_linear_models\"\n",
    "IMAGES_PATH = os.path.join(PROJECT_ROOT_DIR, \"images\", CHAPTER_ID)\n",
    "os.makedirs(IMAGES_PATH, exist_ok=True)\n",
    "\n",
    "def save_fig(fig_id, tight_layout=True, fig_extension=\"png\", resolution=300):\n",
    "    path = os.path.join(IMAGES_PATH, fig_id + \".\" + fig_extension)\n",
    "    print(\"Saving figure\", fig_id)\n",
    "    if tight_layout:\n",
    "        plt.tight_layout()\n",
    "    plt.savefig(path, format=fig_extension, dpi=resolution)"
   ]
  },
  {
   "cell_type": "markdown",
   "metadata": {},
   "source": [
    "# Prepare randomly generated linear dataset\n",
    "The function that we used to generate the data is $y = 4 + 3x_{1} + noise$."
   ]
  },
  {
   "cell_type": "code",
   "execution_count": 2,
   "metadata": {
    "tags": []
   },
   "outputs": [
    {
     "data": {
      "text/plain": [
       "array([[0.74908024],\n",
       "       [1.90142861],\n",
       "       [1.46398788],\n",
       "       [1.19731697],\n",
       "       [0.31203728],\n",
       "       [0.31198904],\n",
       "       [0.11616722],\n",
       "       [1.73235229],\n",
       "       [1.20223002],\n",
       "       [1.41614516],\n",
       "       [0.04116899],\n",
       "       [1.9398197 ],\n",
       "       [1.66488528],\n",
       "       [0.42467822],\n",
       "       [0.36364993],\n",
       "       [0.36680902],\n",
       "       [0.60848449],\n",
       "       [1.04951286],\n",
       "       [0.86389004],\n",
       "       [0.58245828],\n",
       "       [1.22370579],\n",
       "       [0.27898772],\n",
       "       [0.5842893 ],\n",
       "       [0.73272369],\n",
       "       [0.91213997],\n",
       "       [1.57035192],\n",
       "       [0.39934756],\n",
       "       [1.02846888],\n",
       "       [1.18482914],\n",
       "       [0.09290083],\n",
       "       [1.2150897 ],\n",
       "       [0.34104825],\n",
       "       [0.13010319],\n",
       "       [1.89777107],\n",
       "       [1.93126407],\n",
       "       [1.6167947 ],\n",
       "       [0.60922754],\n",
       "       [0.19534423],\n",
       "       [1.36846605],\n",
       "       [0.88030499],\n",
       "       [0.24407647],\n",
       "       [0.99035382],\n",
       "       [0.06877704],\n",
       "       [1.8186408 ],\n",
       "       [0.51755996],\n",
       "       [1.32504457],\n",
       "       [0.62342215],\n",
       "       [1.04013604],\n",
       "       [1.09342056],\n",
       "       [0.36970891],\n",
       "       [1.93916926],\n",
       "       [1.55026565],\n",
       "       [1.87899788],\n",
       "       [1.7896547 ],\n",
       "       [1.19579996],\n",
       "       [1.84374847],\n",
       "       [0.176985  ],\n",
       "       [0.39196572],\n",
       "       [0.09045458],\n",
       "       [0.65066066],\n",
       "       [0.77735458],\n",
       "       [0.54269806],\n",
       "       [1.65747502],\n",
       "       [0.71350665],\n",
       "       [0.56186902],\n",
       "       [1.08539217],\n",
       "       [0.28184845],\n",
       "       [1.60439396],\n",
       "       [0.14910129],\n",
       "       [1.97377387],\n",
       "       [1.54448954],\n",
       "       [0.39743136],\n",
       "       [0.01104423],\n",
       "       [1.63092286],\n",
       "       [1.41371469],\n",
       "       [1.45801434],\n",
       "       [1.54254069],\n",
       "       [0.1480893 ],\n",
       "       [0.71693146],\n",
       "       [0.23173812],\n",
       "       [1.72620685],\n",
       "       [1.24659625],\n",
       "       [0.66179605],\n",
       "       [0.1271167 ],\n",
       "       [0.62196464],\n",
       "       [0.65036664],\n",
       "       [1.45921236],\n",
       "       [1.27511494],\n",
       "       [1.77442549],\n",
       "       [0.94442985],\n",
       "       [0.23918849],\n",
       "       [1.42648957],\n",
       "       [1.5215701 ],\n",
       "       [1.1225544 ],\n",
       "       [1.54193436],\n",
       "       [0.98759119],\n",
       "       [1.04546566],\n",
       "       [0.85508204],\n",
       "       [0.05083825],\n",
       "       [0.21578285]])"
      ]
     },
     "execution_count": 2,
     "metadata": {},
     "output_type": "execute_result"
    }
   ],
   "source": [
    "X = 2 * np.random.rand(100, 1)\n",
    "y = 4 + 3 * X + np.random.randn(100, 1)\n",
    "y"
   ]
  },
  {
   "cell_type": "markdown",
   "metadata": {},
   "source": [
    "# Visualize the dataset\n",
    "- Pyplot tutorial: https://matplotlib.org/stable/tutorials/introductory/pyplot.html <br>\n",
    "- \"b.\" means blue dots."
   ]
  },
  {
   "cell_type": "code",
   "execution_count": 3,
   "metadata": {
    "scrolled": true
   },
   "outputs": [
    {
     "name": "stdout",
     "output_type": "stream",
     "text": [
      "Saving figure generated_data_plot\n"
     ]
    },
    {
     "data": {
      "image/png": "[encoded data removed]",
      "text/plain": [
       "<Figure size 432x288 with 1 Axes>"
      ]
     },
     "metadata": {
      "needs_background": "light"
     },
     "output_type": "display_data"
    }
   ],
   "source": [
    "plt.plot(X, y, \"b.\")\n",
    "plt.xlabel(\"$x_1$\", fontsize=18)\n",
    "plt.ylabel(\"$y$\", rotation=0, fontsize=18)\n",
    "plt.axis([0, 2, 0, 15])\n",
    "save_fig(\"generated_data_plot\")\n",
    "plt.show()"
   ]
  },
  {
   "cell_type": "markdown",
   "metadata": {},
   "source": [
    "# Training with scikit_learn Linear Regression \n",
    "\n"
   ]
  },
  {
   "cell_type": "code",
   "execution_count": 4,
   "metadata": {},
   "outputs": [],
   "source": [
    "# Splitting the dataset into the Training set and Test set\n",
    "from sklearn.model_selection import train_test_split\n",
    "X_train, X_test, y_train, y_test = train_test_split(X, y, test_size = 0.20, random_state = 42)"
   ]
  },
  {
   "cell_type": "code",
   "execution_count": 5,
   "metadata": {},
   "outputs": [
    {
     "data": {
      "text/plain": [
       "LinearRegression()"
      ]
     },
     "execution_count": 5,
     "metadata": {},
     "output_type": "execute_result"
    }
   ],
   "source": [
    "# Fitting Linear Regression to the Training set\n",
    "from sklearn.linear_model import LinearRegression\n",
    "\n",
    "lin_reg = LinearRegression()\n",
    "lin_reg.fit(X_train, y_train)"
   ]
  },
  {
   "cell_type": "code",
   "execution_count": 6,
   "metadata": {},
   "outputs": [
    {
     "data": {
      "text/plain": [
       "(array([4.14291332]), array([[2.79932366]]))"
      ]
     },
     "execution_count": 6,
     "metadata": {},
     "output_type": "execute_result"
    }
   ],
   "source": [
    "# Calculating the Intercept and the Coefficient\n",
    "lin_reg.intercept_, lin_reg.coef_"
   ]
  },
  {
   "cell_type": "markdown",
   "metadata": {},
   "source": [
    "We would have hoped for $w_{0} = 4$ (intercept) and $w_{1} = 3$ (coefficient) instead of 4.14 and 2.799. But it was close\n",
    "enough. The noise made it impossible to recover the exact parameters of the original function. \n",
    "# Prediction\n",
    "Now we can make predictions using the weights."
   ]
  },
  {
   "cell_type": "code",
   "execution_count": 7,
   "metadata": {
    "scrolled": true
   },
   "outputs": [
    {
     "data": {
      "text/plain": [
       "array([[4.49875411],\n",
       "       [9.15273606],\n",
       "       [8.46643942],\n",
       "       [7.85214193],\n",
       "       [5.59173117],\n",
       "       [6.6071719 ],\n",
       "       [5.77852817],\n",
       "       [8.975125  ],\n",
       "       [4.25815864],\n",
       "       [6.23983135],\n",
       "       [6.56122114],\n",
       "       [7.54434267],\n",
       "       [8.70839426],\n",
       "       [9.45538878],\n",
       "       [4.81247932],\n",
       "       [5.01640666],\n",
       "       [8.46098398],\n",
       "       [4.55746321],\n",
       "       [8.80346608],\n",
       "       [5.09761775]])"
      ]
     },
     "execution_count": 7,
     "metadata": {},
     "output_type": "execute_result"
    }
   ],
   "source": [
    "# Predicting the Test set results\n",
    "y_pred = lin_reg.predict(X_test)\n",
    "y_pred"
   ]
  },
  {
   "cell_type": "markdown",
   "metadata": {},
   "source": [
    "# Evaluation\n",
    "Best possible $R^{2}$ score  is 1.0. <br>\n",
    "$R^{2}$ score document: <br>\n",
    "    https://scikit-learn.org/stable/modules/generated/sklearn.metrics.r2_score.html"
   ]
  },
  {
   "cell_type": "code",
   "execution_count": 8,
   "metadata": {},
   "outputs": [
    {
     "data": {
      "text/plain": [
       "0.8072059636181392"
      ]
     },
     "execution_count": 8,
     "metadata": {},
     "output_type": "execute_result"
    }
   ],
   "source": [
    "# Calculating the R squared value\n",
    "from sklearn.metrics import r2_score\n",
    "r2_score(y_test, y_pred)"
   ]
  },
  {
   "cell_type": "markdown",
   "metadata": {},
   "source": [
    "# Calulate and plot the model predictions\n",
    "- Remember 0 is the lower bound of X values and 2 is the upper bound of X values.  \n",
    "- \"r-\" means red solid line."
   ]
  },
  {
   "cell_type": "code",
   "execution_count": 9,
   "metadata": {},
   "outputs": [],
   "source": [
    "X_new = np.array([[0], [2]])\n",
    "y_predict = lin_reg.predict(X_new)"
   ]
  },
  {
   "cell_type": "code",
   "execution_count": 10,
   "metadata": {},
   "outputs": [
    {
     "name": "stdout",
     "output_type": "stream",
     "text": [
      "Saving figure linear_model_predictions_plot\n"
     ]
    },
    {
     "data": {
      "image/png": "[encoded data removed]",
      "text/plain": [
       "<Figure size 432x288 with 1 Axes>"
      ]
     },
     "metadata": {
      "needs_background": "light"
     },
     "output_type": "display_data"
    }
   ],
   "source": [
    "plt.plot(X_new, y_predict, \"r-\", linewidth=2, label=\"Predictions\")\n",
    "plt.plot(X, y, \"b.\")\n",
    "plt.xlabel(\"$x_1$\", fontsize=18)\n",
    "plt.ylabel(\"$y$\", rotation=0, fontsize=18)\n",
    "plt.legend(loc=\"upper left\", fontsize=14)\n",
    "plt.axis([0, 2, 0, 15])\n",
    "save_fig(\"linear_model_predictions_plot\")\n",
    "plt.show()"
   ]
  },
  {
   "cell_type": "markdown",
   "metadata": {},
   "source": [
    "The LinearRegression class is based on the scipy.linalg.lstsq() function (the name stands for “least squares”), which you could call directly. This function computes $W = X^{+}y$, where $X^{+}$ is the pseudoinverse of X (specifically, the Moore-Penrose inverse). You can use np.linalg.pinv() to compute the pseudoinverse. I will not go through details of this method. If you are interested, you can do research on this topic by yourself. "
   ]
  },
  {
   "cell_type": "markdown",
   "metadata": {},
   "source": [
    "# Linear regression using gradient descent\n",
    "This method involves calculations over the full training set X, at each Gradient Descent step. As a result it is terribly slow on very large training sets. There are faster Gradient Descent algorithms available, such as Stochastic Gradient Descent and Mini-batch Gradient Descent. If you are interested in these algorithms, you can do some research by yourself. Gradient Descent scales well with the number of features; training a Linear Regression model when there are hundreds of thousands of features is much faster using Gradient Descent than using the the LinearRegression solver."
   ]
  },
  {
   "cell_type": "code",
   "execution_count": 11,
   "metadata": {},
   "outputs": [],
   "source": [
    "alpha = 0.2  # learning rate\n",
    "n_iterations = 1000\n",
    "m = 100\n",
    "\n",
    "weight = np.random.randn(2,1)  # random initialization\n",
    "\n",
    "X_b = np.c_[np.ones((100, 1)), X]  # add x0 = 1 to each instance\n",
    "\n",
    "for iteration in range(n_iterations):\n",
    "    gradients = 1/m * X_b.T.dot(X_b.dot(weight) - y)\n",
    "    weight = weight - alpha * gradients"
   ]
  },
  {
   "cell_type": "code",
   "execution_count": 12,
   "metadata": {},
   "outputs": [
    {
     "data": {
      "text/plain": [
       "array([[4.21509616],\n",
       "       [2.77011339]])"
      ]
     },
     "execution_count": 12,
     "metadata": {},
     "output_type": "execute_result"
    }
   ],
   "source": [
    "weight"
   ]
  },
  {
   "cell_type": "code",
   "execution_count": 13,
   "metadata": {},
   "outputs": [
    {
     "data": {
      "text/plain": [
       "array([[4.21509616],\n",
       "       [9.75532293]])"
      ]
     },
     "execution_count": 13,
     "metadata": {},
     "output_type": "execute_result"
    }
   ],
   "source": [
    "X_new_b = np.c_[np.ones((2, 1)), X_new]  # add x0 = 1 to each instance\n",
    "X_new_b.dot(weight)"
   ]
  },
  {
   "cell_type": "markdown",
   "metadata": {},
   "source": [
    "# Gradient Descent with various learning rates"
   ]
  },
  {
   "cell_type": "code",
   "execution_count": 14,
   "metadata": {},
   "outputs": [],
   "source": [
    "def plot_gradient_descent(weight, alpha):\n",
    "    m = len(X_b)\n",
    "    plt.plot(X, y, \"b.\")\n",
    "    n_iterations = 1000\n",
    "    for iteration in range(n_iterations):\n",
    "        if iteration < 10:\n",
    "            y_predict = X_new_b.dot(weight)\n",
    "            style = \"b-\" if iteration > 0 else \"r--\"\n",
    "            plt.plot(X_new, y_predict, style)\n",
    "        gradients = 1/m * X_b.T.dot(X_b.dot(weight) - y)\n",
    "        weight = weight - alpha * gradients\n",
    "    plt.xlabel(\"$x_1$\", fontsize=18)\n",
    "    plt.axis([0, 2, 0, 15])\n",
    "    plt.title(r\"$\\alpha = {}$\".format(alpha), fontsize=16)"
   ]
  },
  {
   "cell_type": "code",
   "execution_count": 15,
   "metadata": {},
   "outputs": [
    {
     "name": "stdout",
     "output_type": "stream",
     "text": [
      "Saving figure gradient_descent_plot\n"
     ]
    },
    {
     "data": {
      "image/png": "[encoded data removed]",
      "text/plain": [
       "<Figure size 720x288 with 3 Axes>"
      ]
     },
     "metadata": {
      "needs_background": "light"
     },
     "output_type": "display_data"
    }
   ],
   "source": [
    "np.random.seed(42)\n",
    "weight = np.random.randn(2,1)  # random initialization\n",
    "\n",
    "plt.figure(figsize=(10,4))\n",
    "plt.subplot(131); plot_gradient_descent(weight, alpha=0.02)\n",
    "plt.ylabel(\"$y$\", rotation=0, fontsize=18)\n",
    "plt.subplot(132); plot_gradient_descent(weight, alpha=0.2)\n",
    "plt.subplot(133); plot_gradient_descent(weight, alpha=1)\n",
    "\n",
    "save_fig(\"gradient_descent_plot\")\n",
    "plt.show()"
   ]
  },
  {
   "cell_type": "markdown",
   "metadata": {},
   "source": [
    "The above figure shows the first 10 steps of Gradient Descent using three different learning rates (the dashed line\n",
    "represents the starting point). <br>\n",
    "- On the left, the learning rate is too low: the algorithm will eventually reach the solution, but it will take a long time. \n",
    "- In the middle, the learning rate looks pretty good: in just a few iterations, it has already converged to the solution. \n",
    "- On the right, the learning rate is too high: the algorithm diverges, jumping all over the place and actually getting further and further away from the solution at every step.\n",
    "\n",
    "You may wonder how to set the number of iterations. If it is too low, you will still be far away from the optimal solution when the algorithm stops; but if it is too high, you will waste time while the model parameters do not change anymore. A simple solution is to set a very large number of iterations but to interrupt the algorithm when the gradient vector becomes tiny—that is, when its norm becomes smaller than a tiny number ϵ (called the tolerance)—because this happens when Gradient Descent has\n",
    "(almost) reached the minimum."
   ]
  },
  {
   "cell_type": "markdown",
   "metadata": {},
   "source": [
    "## Run the program and complete the following exercises. (20 points)\n",
    "1. (6 points) In the gradient descent model, you may noticed that we used the whole dataset to train the model. Modify the model and use only training dataset to train the model. What are the new weight values (intercept and coefficient)? Comparing to the linear regression solver, discuss the results.  \n",
    "2. (6 points) Change the size of the training set from 80% to 85% and run the linear regression solver again. What are the new weight values (intercept and coefficient) and the new $R^{2}$ value? Compare with the original values, do you think the model performance improved? Explain your conclusion.\n",
    "3. (6 points) Change the size of the training set back to 80% and change the size of the original dataset from 100 to 1000.  Run the linear regression solver again. What are the new weight values (intercept and coefficient) and the new $R^{2}$ value? Compare with the original values, do you think the model performance improved? Explain your conclusion.<br>\n",
    "  **Note:** Please update the code directly according to the instructions.\n",
    "4. (2 points) Create a new Markdown field at the end of this file and put your answers in this field. Submit this file to the Blackboard. "
   ]
  }
 ],
 "metadata": {
  "kernelspec": {
   "display_name": "Python 3 (ipykernel)",
   "language": "python",
   "name": "python3"
  },
  "language_info": {
   "codemirror_mode": {
    "name": "ipython",
    "version": 3
   },
   "file_extension": ".py",
   "mimetype": "text/x-python",
   "name": "python",
   "nbconvert_exporter": "python",
   "pygments_lexer": "ipython3",
   "version": "3.9.12"
  }
 },
 "nbformat": 4,
 "nbformat_minor": 4
}
