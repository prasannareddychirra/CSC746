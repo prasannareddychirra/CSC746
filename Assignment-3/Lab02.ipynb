{
 "cells": [
  {
   "cell_type": "markdown",
   "metadata": {},
   "source": [
    "# Setup\n",
    "\n",
    "First, let's import a few common modules, ensure MatplotLib plots figures inline and prepare a function to save the figures. We also check that Python 3.5 or later is installed, as well as Scikit-Learn ≥0.20. You don't need to change any code in the following cell, just run it."
   ]
  },
  {
   "cell_type": "code",
   "execution_count": 5,
   "metadata": {},
   "outputs": [],
   "source": [
    "# Python ≥3.5 is required\n",
    "import sys\n",
    "assert sys.version_info >= (3, 5)\n",
    "\n",
    "# Scikit-Learn ≥0.20 is required\n",
    "import sklearn\n",
    "assert sklearn.__version__ >= \"0.20\"\n",
    "\n",
    "# Common imports\n",
    "import numpy as np\n",
    "import os\n",
    "\n",
    "# to make this notebook's output stable across runs\n",
    "np.random.seed(42)\n",
    "\n",
    "# To plot pretty figures\n",
    "%matplotlib inline\n",
    "import matplotlib as mpl\n",
    "import matplotlib.pyplot as plt\n",
    "mpl.rc('axes', labelsize=14)\n",
    "mpl.rc('xtick', labelsize=12)\n",
    "mpl.rc('ytick', labelsize=12)\n",
    "\n",
    "# Where to save the figures\n",
    "PROJECT_ROOT_DIR = \".\"\n",
    "CHAPTER_ID = \"training_linear_models\"\n",
    "IMAGES_PATH = os.path.join(PROJECT_ROOT_DIR, \"images\", CHAPTER_ID)\n",
    "os.makedirs(IMAGES_PATH, exist_ok=True)\n",
    "\n",
    "def save_fig(fig_id, tight_layout=True, fig_extension=\"png\", resolution=300):\n",
    "    path = os.path.join(IMAGES_PATH, fig_id + \".\" + fig_extension)\n",
    "    print(\"Saving figure\", fig_id)\n",
    "    if tight_layout:\n",
    "        plt.tight_layout()\n",
    "    plt.savefig(path, format=fig_extension, dpi=resolution)"
   ]
  },
  {
   "cell_type": "markdown",
   "metadata": {},
   "source": [
    "# Prepare randomly generated linear dataset\n",
    "The function that we used to generate the data is $y = 4 + 3x_{1} + noise$."
   ]
  },
  {
   "cell_type": "code",
   "execution_count": 20,
   "metadata": {},
   "outputs": [],
   "source": [
    "X = 2 * np.random.rand(1000, 1)\n",
    "y = 4 + 3 * X + np.random.randn(1000, 1)"
   ]
  },
  {
   "cell_type": "markdown",
   "metadata": {},
   "source": [
    "# Visualize the dataset\n",
    "- Pyplot tutorial: https://matplotlib.org/stable/tutorials/introductory/pyplot.html <br>\n",
    "- \"b.\" means blue dots."
   ]
  },
  {
   "cell_type": "code",
   "execution_count": 21,
   "metadata": {
    "scrolled": true
   },
   "outputs": [
    {
     "name": "stdout",
     "output_type": "stream",
     "text": [
      "Saving figure generated_data_plot\n"
     ]
    },
    {
     "data": {
      "image/png": "[encoded data removed]",
      "text/plain": [
       "<Figure size 432x288 with 1 Axes>"
      ]
     },
     "metadata": {
      "needs_background": "light"
     },
     "output_type": "display_data"
    }
   ],
   "source": [
    "plt.plot(X, y, \"b.\")\n",
    "plt.xlabel(\"$x_1$\", fontsize=18)\n",
    "plt.ylabel(\"$y$\", rotation=0, fontsize=18)\n",
    "plt.axis([0, 2, 0, 15])\n",
    "save_fig(\"generated_data_plot\")\n",
    "plt.show()"
   ]
  },
  {
   "cell_type": "markdown",
   "metadata": {},
   "source": [
    "# Training with scikit_learn Linear Regression \n",
    "\n"
   ]
  },
  {
   "cell_type": "code",
   "execution_count": 23,
   "metadata": {},
   "outputs": [],
   "source": [
    "# Splitting the dataset into the Training set and Test set\n",
    "from sklearn.model_selection import train_test_split\n",
    "# Reduce test_size from 0.20 to 0.15\n",
    "X_train, X_test, y_train, y_test = train_test_split(X, y, test_size = 0.20, random_state = 42)"
   ]
  },
  {
   "cell_type": "code",
   "execution_count": 24,
   "metadata": {},
   "outputs": [
    {
     "data": {
      "text/plain": [
       "LinearRegression()"
      ]
     },
     "execution_count": 24,
     "metadata": {},
     "output_type": "execute_result"
    }
   ],
   "source": [
    "# Fitting Linear Regression to the Training set\n",
    "from sklearn.linear_model import LinearRegression\n",
    "\n",
    "lin_reg = LinearRegression()\n",
    "lin_reg.fit(X_train, y_train)"
   ]
  },
  {
   "cell_type": "code",
   "execution_count": 25,
   "metadata": {},
   "outputs": [
    {
     "data": {
      "text/plain": [
       "(array([4.0246099]), array([[3.04402111]]))"
      ]
     },
     "execution_count": 25,
     "metadata": {},
     "output_type": "execute_result"
    }
   ],
   "source": [
    "# Calculating the Intercept and the Coefficient\n",
    "lin_reg.intercept_, lin_reg.coef_"
   ]
  },
  {
   "cell_type": "markdown",
   "metadata": {},
   "source": [
    "We would have hoped for $w_{0} = 4$ (intercept) and $w_{1} = 3$ (coefficient) instead of 4.14 and 2.799. But it was close\n",
    "enough. The noise made it impossible to recover the exact parameters of the original function. \n",
    "# Prediction\n",
    "Now we can make predictions using the weights."
   ]
  },
  {
   "cell_type": "code",
   "execution_count": 26,
   "metadata": {
    "scrolled": true
   },
   "outputs": [
    {
     "data": {
      "text/plain": [
       "array([[ 9.74634755],\n",
       "       [ 5.83349945],\n",
       "       [ 8.06506798],\n",
       "       [ 8.42180148],\n",
       "       [ 5.98544146],\n",
       "       [ 5.60399072],\n",
       "       [ 4.24712582],\n",
       "       [ 7.08519286],\n",
       "       [ 5.435037  ],\n",
       "       [ 9.87637864],\n",
       "       [ 8.83856592],\n",
       "       [ 7.16786822],\n",
       "       [ 4.96971907],\n",
       "       [ 5.99476258],\n",
       "       [ 4.06348736],\n",
       "       [ 5.6060019 ],\n",
       "       [ 7.75910752],\n",
       "       [ 7.29373286],\n",
       "       [ 8.25395135],\n",
       "       [ 8.72651688],\n",
       "       [ 7.92794376],\n",
       "       [ 5.97308539],\n",
       "       [ 5.72067965],\n",
       "       [ 7.27234355],\n",
       "       [ 4.54110549],\n",
       "       [ 6.30683782],\n",
       "       [ 8.63840902],\n",
       "       [ 4.52614919],\n",
       "       [ 4.51802269],\n",
       "       [ 4.67591255],\n",
       "       [ 4.91999946],\n",
       "       [ 4.44688443],\n",
       "       [ 8.59040091],\n",
       "       [ 5.02095419],\n",
       "       [ 5.0530937 ],\n",
       "       [ 6.16099532],\n",
       "       [ 9.79883368],\n",
       "       [ 9.32057568],\n",
       "       [ 7.04352231],\n",
       "       [ 7.62162774],\n",
       "       [ 8.6219174 ],\n",
       "       [ 7.39954078],\n",
       "       [ 5.41659696],\n",
       "       [ 6.99949028],\n",
       "       [ 9.28907624],\n",
       "       [ 9.03225137],\n",
       "       [ 7.79074209],\n",
       "       [ 6.77908078],\n",
       "       [ 5.76028133],\n",
       "       [ 4.69718097],\n",
       "       [ 8.33030857],\n",
       "       [ 4.96153468],\n",
       "       [ 7.80000334],\n",
       "       [ 6.76933903],\n",
       "       [ 5.95404445],\n",
       "       [ 7.76879987],\n",
       "       [10.09362244],\n",
       "       [ 9.75016147],\n",
       "       [ 7.42419855],\n",
       "       [ 9.34983062],\n",
       "       [ 6.55004855],\n",
       "       [ 7.54520382],\n",
       "       [ 4.80076626],\n",
       "       [ 4.51986471],\n",
       "       [ 7.05869395],\n",
       "       [ 9.47068163],\n",
       "       [ 9.07902349],\n",
       "       [ 5.36693925],\n",
       "       [ 4.3392504 ],\n",
       "       [ 6.4433117 ],\n",
       "       [ 8.30850866],\n",
       "       [ 8.53658371],\n",
       "       [ 8.9124156 ],\n",
       "       [ 9.72806891],\n",
       "       [ 9.92948971],\n",
       "       [ 4.94035429],\n",
       "       [ 4.14460849],\n",
       "       [ 5.81200945],\n",
       "       [ 6.06530486],\n",
       "       [ 5.53047559],\n",
       "       [ 6.33619331],\n",
       "       [ 8.71236317],\n",
       "       [ 5.01462869],\n",
       "       [ 5.33853743],\n",
       "       [ 7.19226515],\n",
       "       [ 8.40822274],\n",
       "       [10.01510737],\n",
       "       [ 5.28131132],\n",
       "       [ 4.48205189],\n",
       "       [ 4.19984005],\n",
       "       [ 7.84729399],\n",
       "       [ 5.5947332 ],\n",
       "       [ 7.84612303],\n",
       "       [ 6.31529415],\n",
       "       [ 7.48228445],\n",
       "       [ 5.52201094],\n",
       "       [ 6.22223423],\n",
       "       [ 4.97700522],\n",
       "       [ 6.21746574],\n",
       "       [ 8.6952846 ],\n",
       "       [ 4.8579754 ],\n",
       "       [ 9.9910896 ],\n",
       "       [ 9.09067791],\n",
       "       [ 4.30128938],\n",
       "       [ 7.43172387],\n",
       "       [ 4.17916311],\n",
       "       [ 5.13018447],\n",
       "       [ 8.33599148],\n",
       "       [ 8.59594467],\n",
       "       [ 8.03329247],\n",
       "       [ 9.46666569],\n",
       "       [ 8.88763597],\n",
       "       [ 5.36866463],\n",
       "       [ 5.44287702],\n",
       "       [ 6.51433269],\n",
       "       [ 7.71259258],\n",
       "       [ 7.87126153],\n",
       "       [ 5.6904606 ],\n",
       "       [ 4.22875678],\n",
       "       [ 9.12839045],\n",
       "       [ 9.27327924],\n",
       "       [ 4.80132417],\n",
       "       [ 9.07611304],\n",
       "       [ 6.79866745],\n",
       "       [ 9.31267807],\n",
       "       [ 9.79171087],\n",
       "       [ 9.63073416],\n",
       "       [10.0053724 ],\n",
       "       [ 5.15965391],\n",
       "       [ 4.24991394],\n",
       "       [ 6.77773182],\n",
       "       [ 9.8080137 ],\n",
       "       [ 6.17583319],\n",
       "       [ 7.91198283],\n",
       "       [ 8.82562302],\n",
       "       [ 4.24342798],\n",
       "       [ 7.08772469],\n",
       "       [ 9.79149924],\n",
       "       [ 7.4144395 ],\n",
       "       [ 7.31601935],\n",
       "       [ 7.13768402],\n",
       "       [ 7.39649817],\n",
       "       [ 8.07338126],\n",
       "       [ 6.57089117],\n",
       "       [ 8.95297795],\n",
       "       [ 5.65028929],\n",
       "       [ 7.30905567],\n",
       "       [ 7.23727654],\n",
       "       [ 9.7416937 ],\n",
       "       [ 9.21272686],\n",
       "       [ 6.51300079],\n",
       "       [ 8.5943842 ],\n",
       "       [ 6.73928441],\n",
       "       [ 7.49953232],\n",
       "       [ 9.99811278],\n",
       "       [ 7.11496332],\n",
       "       [ 4.81093787],\n",
       "       [ 7.32210187],\n",
       "       [ 4.21029671],\n",
       "       [ 7.63445326],\n",
       "       [ 9.62472973],\n",
       "       [ 4.8575675 ],\n",
       "       [ 5.3759858 ],\n",
       "       [ 5.43140302],\n",
       "       [ 5.09932001],\n",
       "       [ 4.10376616],\n",
       "       [ 4.36782631],\n",
       "       [ 4.87762483],\n",
       "       [ 7.78780073],\n",
       "       [ 9.83291284],\n",
       "       [ 7.92628241],\n",
       "       [ 8.17362725],\n",
       "       [ 7.01758811],\n",
       "       [ 5.68822544],\n",
       "       [ 9.08145593],\n",
       "       [ 6.12904692],\n",
       "       [ 7.5819401 ],\n",
       "       [ 9.44457341],\n",
       "       [ 5.42491341],\n",
       "       [ 6.10560837],\n",
       "       [ 7.52202647],\n",
       "       [ 5.2902302 ],\n",
       "       [ 6.2423002 ],\n",
       "       [ 7.79963902],\n",
       "       [ 6.6289108 ],\n",
       "       [ 9.53642284],\n",
       "       [ 5.48662657],\n",
       "       [ 6.91010838],\n",
       "       [ 7.87111733],\n",
       "       [ 7.65821437],\n",
       "       [ 8.65777991],\n",
       "       [ 7.84488966],\n",
       "       [ 7.99855577],\n",
       "       [ 4.73731884],\n",
       "       [ 6.28109494],\n",
       "       [ 5.66377406],\n",
       "       [ 4.8548452 ],\n",
       "       [ 8.3242424 ],\n",
       "       [ 9.87564657],\n",
       "       [ 8.86573703]])"
      ]
     },
     "execution_count": 26,
     "metadata": {},
     "output_type": "execute_result"
    }
   ],
   "source": [
    "# Predicting the Test set results\n",
    "y_pred = lin_reg.predict(X_test)\n",
    "y_pred"
   ]
  },
  {
   "cell_type": "markdown",
   "metadata": {},
   "source": [
    "# Evaluation\n",
    "Best possible $R^{2}$ score  is 1.0. <br>\n",
    "$R^{2}$ score document: <br>\n",
    "    https://scikit-learn.org/stable/modules/generated/sklearn.metrics.r2_score.html"
   ]
  },
  {
   "cell_type": "code",
   "execution_count": 27,
   "metadata": {},
   "outputs": [
    {
     "data": {
      "text/plain": [
       "0.799762708998771"
      ]
     },
     "execution_count": 27,
     "metadata": {},
     "output_type": "execute_result"
    }
   ],
   "source": [
    "# Calculating the R squared value\n",
    "from sklearn.metrics import r2_score\n",
    "r2_score(y_test, y_pred)"
   ]
  },
  {
   "cell_type": "markdown",
   "metadata": {},
   "source": [
    "# Calulate and plot the model predictions\n",
    "- Remember 0 is the lower bound of X values and 2 is the upper bound of X values.  \n",
    "- \"r-\" means red solid line."
   ]
  },
  {
   "cell_type": "code",
   "execution_count": 28,
   "metadata": {},
   "outputs": [],
   "source": [
    "X_new = np.array([[0], [2]])\n",
    "y_predict = lin_reg.predict(X_new)"
   ]
  },
  {
   "cell_type": "code",
   "execution_count": 29,
   "metadata": {},
   "outputs": [
    {
     "name": "stdout",
     "output_type": "stream",
     "text": [
      "Saving figure linear_model_predictions_plot\n"
     ]
    },
    {
     "data": {
      "image/png": "[encoded data removed]",
      "text/plain": [
       "<Figure size 432x288 with 1 Axes>"
      ]
     },
     "metadata": {
      "needs_background": "light"
     },
     "output_type": "display_data"
    }
   ],
   "source": [
    "plt.plot(X_new, y_predict, \"r-\", linewidth=2, label=\"Predictions\")\n",
    "plt.plot(X, y, \"b.\")\n",
    "plt.xlabel(\"$x_1$\", fontsize=18)\n",
    "plt.ylabel(\"$y$\", rotation=0, fontsize=18)\n",
    "plt.legend(loc=\"upper left\", fontsize=14)\n",
    "plt.axis([0, 2, 0, 15])\n",
    "save_fig(\"linear_model_predictions_plot\")\n",
    "plt.show()"
   ]
  },
  {
   "cell_type": "markdown",
   "metadata": {},
   "source": [
    "The LinearRegression class is based on the scipy.linalg.lstsq() function (the name stands for “least squares”), which you could call directly. This function computes $W = X^{+}y$, where $X^{+}$ is the pseudoinverse of X (specifically, the Moore-Penrose inverse). You can use np.linalg.pinv() to compute the pseudoinverse. I will not go through details of this method. If you are interested, you can do research on this topic by yourself. "
   ]
  },
  {
   "cell_type": "markdown",
   "metadata": {},
   "source": [
    "# Linear regression using gradient descent\n",
    "This method involves calculations over the full training set X, at each Gradient Descent step. As a result it is terribly slow on very large training sets. There are faster Gradient Descent algorithms available, such as Stochastic Gradient Descent and Mini-batch Gradient Descent. If you are interested in these algorithms, you can do some research by yourself. Gradient Descent scales well with the number of features; training a Linear Regression model when there are hundreds of thousands of features is much faster using Gradient Descent than using the the LinearRegression solver."
   ]
  },
  {
   "cell_type": "code",
   "execution_count": 35,
   "metadata": {},
   "outputs": [
    {
     "name": "stdout",
     "output_type": "stream",
     "text": [
      "[[-0.054894  ]\n",
      " [ 0.28555407]]\n"
     ]
    }
   ],
   "source": [
    "alpha = 0.1  # learning rate\n",
    "n_iterations = 1000\n",
    "m = 100\n",
    "\n",
    "weight = np.random.randn(2,1)  # random initialization\n",
    "print(weight)\n",
    "X_b = np.c_[np.ones((1000, 1)), X]  # add x0 = 1 to each instance\n",
    "\n",
    "for iteration in range(n_iterations):\n",
    "    gradients = 1/m * X_b.T.dot(X_b.dot(weight) - y)\n",
    "    weight = weight - alpha * gradients"
   ]
  },
  {
   "cell_type": "code",
   "execution_count": 36,
   "metadata": {},
   "outputs": [
    {
     "data": {
      "text/plain": [
       "array([[-9.86006594e+79],\n",
       "       [-1.17713786e+80]])"
      ]
     },
     "execution_count": 36,
     "metadata": {},
     "output_type": "execute_result"
    }
   ],
   "source": [
    "weight"
   ]
  },
  {
   "cell_type": "code",
   "execution_count": 37,
   "metadata": {},
   "outputs": [
    {
     "data": {
      "text/plain": [
       "array([[-9.86006594e+79],\n",
       "       [-3.34028232e+80]])"
      ]
     },
     "execution_count": 37,
     "metadata": {},
     "output_type": "execute_result"
    }
   ],
   "source": [
    "X_new_b = np.c_[np.ones((2, 1)), X_new]  # add x0 = 1 to each instance\n",
    "X_new_b.dot(weight)"
   ]
  },
  {
   "cell_type": "markdown",
   "metadata": {},
   "source": [
    "# Gradient Descent with various learning rates"
   ]
  },
  {
   "cell_type": "code",
   "execution_count": 38,
   "metadata": {},
   "outputs": [],
   "source": [
    "def plot_gradient_descent(weight, alpha):\n",
    "    m = len(X_b)\n",
    "    plt.plot(X, y, \"b.\")\n",
    "    n_iterations = 1000\n",
    "    for iteration in range(n_iterations):\n",
    "        if iteration < 10:\n",
    "            y_predict = X_new_b.dot(weight)\n",
    "            style = \"b-\" if iteration > 0 else \"r--\"\n",
    "            plt.plot(X_new, y_predict, style)\n",
    "        gradients = 1/m * X_b.T.dot(X_b.dot(weight) - y)\n",
    "        weight = weight - alpha * gradients\n",
    "    plt.xlabel(\"$x_1$\", fontsize=18)\n",
    "    plt.axis([0, 2, 0, 15])\n",
    "    plt.title(r\"$\\alpha = {}$\".format(alpha), fontsize=16)"
   ]
  },
  {
   "cell_type": "code",
   "execution_count": 39,
   "metadata": {},
   "outputs": [
    {
     "name": "stdout",
     "output_type": "stream",
     "text": [
      "Saving figure gradient_descent_plot\n"
     ]
    },
    {
     "data": {
      "image/png": "[encoded data removed]",
      "text/plain": [
       "<Figure size 720x288 with 3 Axes>"
      ]
     },
     "metadata": {
      "needs_background": "light"
     },
     "output_type": "display_data"
    }
   ],
   "source": [
    "np.random.seed(42)\n",
    "weight = np.random.randn(2,1)  # random initialization\n",
    "\n",
    "plt.figure(figsize=(10,4))\n",
    "plt.subplot(131); plot_gradient_descent(weight, alpha=0.05)\n",
    "plt.ylabel(\"$y$\", rotation=0, fontsize=18)\n",
    "plt.subplot(132); plot_gradient_descent(weight, alpha=0.5 )\n",
    "plt.subplot(133); plot_gradient_descent(weight, alpha=1)\n",
    "\n",
    "save_fig(\"gradient_descent_plot\")\n",
    "plt.show()"
   ]
  },
  {
   "cell_type": "markdown",
   "metadata": {},
   "source": [
    "The above figure shows the first 10 steps of Gradient Descent using three different learning rates (the dashed line\n",
    "represents the starting point). <br>\n",
    "- On the left, the learning rate is too low: the algorithm will eventually reach the solution, but it will take a long time. \n",
    "- In the middle, the learning rate looks pretty good: in just a few iterations, it has already converged to the solution. \n",
    "- On the right, the learning rate is too high: the algorithm diverges, jumping all over the place and actually getting further and further away from the solution at every step.\n",
    "\n",
    "You may wonder how to set the number of iterations. If it is too low, you will still be far away from the optimal solution when the algorithm stops; but if it is too high, you will waste time while the model parameters do not change anymore. A simple solution is to set a very large number of iterations but to interrupt the algorithm when the gradient vector becomes tiny—that is, when its norm becomes smaller than a tiny number ϵ (called the tolerance)—because this happens when Gradient Descent has\n",
    "(almost) reached the minimum."
   ]
  },
  {
   "cell_type": "markdown",
   "metadata": {},
   "source": [
    "## Run the program and complete the following exercises. (20 points)\n",
    "1. (6 points) In the gradient descent model, you may noticed that we used the whole dataset to train the model. Modify the model and use only training dataset to train the model. What are the new weight values (intercept and coefficient)? Comparing to the linear regression solver, discuss the results.  \n",
    "2. (6 points) Change the size of the training set from 80% to 85% and run the linear regression solver again. What are the new weight values (intercept and coefficient) and the new $R^{2}$ value? Compare with the original values, do you think the model performance improved? Explain your conclusion.\n",
    "3. (6 points) Change the size of the training set back to 80% and change the size of the original dataset from 100 to 1000.  Run the linear regression solver again. What are the new weight values (intercept and coefficient) and the new $R^{2}$ value? Compare with the original values, do you think the model performance improved? Explain your conclusion.<br>\n",
    "  **Note:** Please update the code directly according to the instructions.\n",
    "4. (2 points) Create a new Markdown field at the end of this file and put your answers in this field. Submit this file to the Blackboard. "
   ]
  },
  {
   "cell_type": "markdown",
   "metadata": {},
   "source": [
    "## Answers:\n",
    "\n",
    "\n",
    "1.  \n",
    "    Gradient descent Values:  Intercept = 4.14291332, Coefficient = 2.79932366 <br>\n",
    "    Linear Regression Values: Intercept = 4.14291332, Coefficient = 2.79932366 <br>\n",
    "   \n",
    "When we use only the training dataset to train the gradient descent model, the weight values are the same as the linear regression solver. This means that using only the training dataset does not affect the accuracy of the model.The reason for this is that the training dataset is large enough to capture the underlying relationship between the independent and dependent variables. Additionally, the linear regression solver is a very robust model and is not easily affected by overfitting.\n",
    "\n",
    "\n",
    "2. \n",
    "   Old Values:  Intercept = 4.14291332, Coeff = 2.79932366, $R^{2}$ = 0.8072059636181392 <br>\n",
    "   New Values:  Intercept = 4.14872355, Coeff = 2.78124316, $R^{2}$ = 0.7428577351426886 <br>\n",
    "\n",
    "The new $R^{2}$ value is lower than the original $R^{2}$ value of 0.8072. This means that the new model is less accurate than the original model.There are a few possible reasons for this. First, the new model is trained on a smaller dataset, which means that it has less data to learn from. Second, the new model may be more prone to overfitting, which means that it is fitting the training data too closely and not generalizing well to new data.Overall, I do not think that the model performance improved by changing the size of the training set from 80% to 85%. In fact, the new model is less accurate than the original model..\n",
    "   \n",
    "3. \n",
    "   Old Values:  Intercept = 4.14291332, Coeff = 2.79932366, $R^{2}$ = 0.8072059636181392 <br>\n",
    "   New Values:  Intercept = 4.0246099,  Coeff = 3.04402111, $R^{2}$ = 0.799762708998771 <br>\n",
    "\n",
    "The new model has a slightly lower $R^{2}$ value than the original model, which means that it is slightly less accurate. This is likely due to the fact that the new model is trained on a larger dataset, which can lead to overfitting.In general, it is not always the case that increasing the size of the dataset will improve the accuracy of the model.The best way to determine the optimal size of the dataset is to experiment with different sizes and see how it affects the accuracy of the model."
   ]
  },
  {
   "cell_type": "code",
   "execution_count": null,
   "metadata": {},
   "outputs": [],
   "source": []
  }
 ],
 "metadata": {
  "kernelspec": {
   "display_name": "Python 3 (ipykernel)",
   "language": "python",
   "name": "python3"
  },
  "language_info": {
   "codemirror_mode": {
    "name": "ipython",
    "version": 3
   },
   "file_extension": ".py",
   "mimetype": "text/x-python",
   "name": "python",
   "nbconvert_exporter": "python",
   "pygments_lexer": "ipython3",
   "version": "3.9.12"
  }
 },
 "nbformat": 4,
 "nbformat_minor": 4
}
