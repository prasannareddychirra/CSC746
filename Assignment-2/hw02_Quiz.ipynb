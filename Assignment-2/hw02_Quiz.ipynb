{
 "cells": [
  {
   "cell_type": "code",
   "execution_count": null,
   "id": "6d04c1aa-f322-4486-bd17-fad1744cecdb",
   "metadata": {},
   "outputs": [],
   "source": [
    "import numpy as np\n",
    "import matplotlib.pyplot as plt\n",
    "import pandas as pd"
   ]
  },
  {
   "cell_type": "code",
   "execution_count": 5,
   "id": "8d73ddb3-ab3e-45e4-b095-60644ee136ed",
   "metadata": {},
   "outputs": [
    {
     "name": "stdout",
     "output_type": "stream",
     "text": [
      "[[ 8  8]\n",
      " [ 6 -1]]\n"
     ]
    }
   ],
   "source": [
    "quiz_A = np.array([[1, -5],[-2, 1]])\n",
    "quiz_B = np.array([[9, 3],[4, 0]])\n",
    "print(np.subtract(quiz_B, quiz_A))"
   ]
  },
  {
   "cell_type": "code",
   "execution_count": 7,
   "id": "380490d1-ceaf-4347-b7bb-1fa5748a3b15",
   "metadata": {},
   "outputs": [
    {
     "name": "stdout",
     "output_type": "stream",
     "text": [
      "[[5.]\n",
      " [6.]\n",
      " [2.]\n",
      " [4.]]\n"
     ]
    }
   ],
   "source": [
    "quiz_3 = np.array([[10], [12], [4], [8]])\n",
    "print(np.divide(quiz_3, 2))"
   ]
  },
  {
   "cell_type": "code",
   "execution_count": 6,
   "id": "060302a9-bb9a-4585-b8d2-8067fff2c267",
   "metadata": {},
   "outputs": [
    {
     "name": "stdout",
     "output_type": "stream",
     "text": [
      "[[2 4 5]\n",
      " [0 1 6]]\n"
     ]
    }
   ],
   "source": [
    "u = np.array([[2, 0], [4, 1], [5, 6]])\n",
    "print(u.transpose())"
   ]
  },
  {
   "cell_type": "code",
   "execution_count": null,
   "id": "11863471-a1f9-45f3-9564-80b56dea97f9",
   "metadata": {},
   "outputs": [],
   "source": []
  }
 ],
 "metadata": {
  "kernelspec": {
   "display_name": "Python 3 (ipykernel)",
   "language": "python",
   "name": "python3"
  },
  "language_info": {
   "codemirror_mode": {
    "name": "ipython",
    "version": 3
   },
   "file_extension": ".py",
   "mimetype": "text/x-python",
   "name": "python",
   "nbconvert_exporter": "python",
   "pygments_lexer": "ipython3",
   "version": "3.9.12"
  }
 },
 "nbformat": 4,
 "nbformat_minor": 5
}
