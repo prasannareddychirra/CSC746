{
 "cells": [
  {
   "cell_type": "markdown",
   "metadata": {},
   "source": [
    "# Variable\n",
    "\n",
    "- Specific, case-sensitive name\n",
    "- Call up value through variable name"
   ]
  },
  {
   "cell_type": "code",
   "execution_count": 1,
   "metadata": {},
   "outputs": [
    {
     "name": "stdout",
     "output_type": "stream",
     "text": [
      "1.81\n"
     ]
    },
    {
     "data": {
      "text/plain": [
       "70.5"
      ]
     },
     "execution_count": 1,
     "metadata": {},
     "output_type": "execute_result"
    }
   ],
   "source": [
    "# Comment symbol: #\n",
    "# Examples: height - 1.81m, weight - 70.5 kg\n",
    "# type declaration is not needed\n",
    "height = 1.81\n",
    "weight = 70.5\n",
    "\n",
    "# print out value\n",
    "print(height)\n",
    "\n",
    "# print is not necessary if you want to check the value of a variable\n",
    "weight"
   ]
  },
  {
   "cell_type": "markdown",
   "metadata": {},
   "source": [
    "# Python Data Types\n",
    "- float: real numbers\n",
    "- int: integer numbers  \n",
    "- str: string, text (You can use either ' or \" to define a string)\n",
    "- bool: True, False\n",
    "- list[]: a collection of values (don't have to be the same type)\n",
    "- tuple(): an immutable list\n",
    "- dictionary{}: a collection of key and value pairs\n",
    "\n",
    "##### Note: \n",
    " - Use type() function to check data type\n",
    " - To concatenate 2 elements, both elements must be strings. \n",
    " - Use str() function to convert an element to string. "
   ]
  },
  {
   "cell_type": "code",
   "execution_count": 2,
   "metadata": {},
   "outputs": [
    {
     "name": "stdout",
     "output_type": "stream",
     "text": [
      "height: value(1.81) type(<class 'float'>)\n",
      "rank: value(1) type(<class 'int'>)\n",
      "name: value(Jack) type(<class 'str'>)\n",
      "tall: value(True) type(<class 'bool'>)\n",
      "fam: value([1.73, 1.68, 1.71, 1.89]) type(<class 'list'>)\n",
      "fam1:\n",
      "['liz', 1.73, 'emma', 1.68, 'mom', 1.71, 'dad', 1.89]\n",
      "fam2:\n",
      "[['liz', 1.73], ['emma', 1.68], ['mom', 1.71], ['dad', 1.89]]\n",
      "fam1[2]:\n",
      "emma\n",
      "fam1[-1]:\n",
      "1.89\n",
      "fam1[3:5]:\n",
      "[1.68, 'mom']\n",
      "fam1[:4]:\n",
      "['liz', 1.73, 'emma', 1.68]\n",
      "fam1[5:]:\n",
      "[1.71, 'dad', 1.89]\n",
      "fam1:\n",
      "['liz', 1.73, 'emma', 1.68, 'mom', 1.71, 'dad', 1.86]\n",
      "fam1:\n",
      "['lisa', 1.74, 'emma', 1.68, 'mom', 1.71, 'dad', 1.86]\n",
      "fam1:\n",
      "['lisa', 1.74, 'emma', 1.68, 'mom', 1.71, 'dad', 1.86]\n",
      "fam1:\n",
      "['lisa', 1.74, 1.68, 'mom', 1.71, 'dad', 1.86]\n",
      "emma's height is 1.68\n"
     ]
    }
   ],
   "source": [
    "height = 1.81\n",
    "print(\"height: value(\" + str(height) +\") type(\" + str(type(height)) + \")\") \n",
    "\n",
    "rank = 1\n",
    "print(\"rank: value(\" + str(rank) +\") type(\" + str(type(rank)) + \")\") \n",
    "\n",
    "name = \"Jack\"\n",
    "print(\"name: value(\" + name +\") type(\" + str(type(name)) + \")\") \n",
    "\n",
    "tall = True\n",
    "print(\"tall: value(\" + str(tall) +\") type(\" + str(type(tall)) + \")\") \n",
    "\n",
    "fam = [1.73, 1.68, 1.71, 1.89]\n",
    "print(\"fam: value(\" + str(fam) +\") type(\" + str(type(fam)) + \")\")\n",
    "\n",
    "# Elements can be different data types\n",
    "fam1 = [\"liz\", 1.73, \"emma\", 1.68, \"mom\", 1.71, \"dad\", 1.89]  \n",
    "print(\"fam1:\")\n",
    "print(fam1)\n",
    "\n",
    "fam2 = [[\"liz\", 1.73],\n",
    "[\"emma\", 1.68],\n",
    "[\"mom\", 1.71],\n",
    "[\"dad\", 1.89]]\n",
    "print(\"fam2:\")\n",
    "print(fam2)\n",
    "\n",
    "# Manipulate list\n",
    "print(\"fam1[2]:\")\n",
    "print(fam1[2])\n",
    "print(\"fam1[-1]:\")\n",
    "print(fam1[-1])\n",
    "print(\"fam1[3:5]:\")\n",
    "print(fam1[3:5])\n",
    "print(\"fam1[:4]:\")\n",
    "print(fam1[:4])\n",
    "print(\"fam1[5:]:\")\n",
    "print(fam1[5:])\n",
    "\n",
    "fam1[7] = 1.86\n",
    "print(\"fam1:\")\n",
    "print(fam1)\n",
    "\n",
    "fam1[0:2] = [\"lisa\", 1.74]\n",
    "print(\"fam1:\")\n",
    "print(fam1)\n",
    "\n",
    "fam + [\"me\", 1.79]\n",
    "print(\"fam1:\")\n",
    "print(fam1)\n",
    "\n",
    "fam_ext = fam1 + [\"me\", 1.79]\n",
    "del(fam1[2])  \n",
    "print(\"fam1:\")\n",
    "print(fam1)\n",
    "\n",
    "# dictinary\n",
    "fam3 = {\"liz\": 1.73, \"emma\": 1.68, \"mom\": 1.71, \"dad\": 1.89}  \n",
    "for key in fam3.keys():\n",
    "    if key == \"emma\":\n",
    "        print(\"emma's height is \" + str(fam3.get(\"emma\")))"
   ]
  },
  {
   "cell_type": "markdown",
   "metadata": {},
   "source": [
    "# Get input and type conversion\n",
    "Use input function to get input. All inputs are strings. To convert to other types, use type casting.  "
   ]
  },
  {
   "cell_type": "code",
   "execution_count": 4,
   "metadata": {},
   "outputs": [
    {
     "name": "stdin",
     "output_type": "stream",
     "text": [
      "Birth year: 1996\n"
     ]
    },
    {
     "name": "stdout",
     "output_type": "stream",
     "text": [
      "27\n"
     ]
    }
   ],
   "source": [
    "birth_year = input('Birth year:')\n",
    "age = 2023 - int(birth_year)\n",
    "print(age)"
   ]
  },
  {
   "cell_type": "markdown",
   "metadata": {},
   "source": [
    "# Functions & Methods\n",
    "- Predefined functions \n",
    "- User defined functions\n",
    "- Object have methods associated, depending on type"
   ]
  },
  {
   "cell_type": "code",
   "execution_count": 5,
   "metadata": {},
   "outputs": [
    {
     "name": "stdout",
     "output_type": "stream",
     "text": [
      "1.89\n",
      "blue\n",
      "1.33\n",
      "6\n",
      "x + y: 8\n",
      "2\n",
      "1\n",
      "['liz', 1.73, 'emma', 1.68, 'mom', 1.71, 'dad', 1.89, 'me']\n",
      "[]\n",
      "Liz\n",
      "lisa\n",
      "['apple', 'banana', 'pear', 'strawberry', 'watermelon', 'peach']\n"
     ]
    }
   ],
   "source": [
    "# Predefined function\n",
    "fam = [1.73, 1.68, 1.71, 1.89]\n",
    "print(max(fam))\n",
    "\n",
    "color = [\"red\", \"blue\", \"yellow\", \"green\"]\n",
    "print(min(color))\n",
    "\n",
    "print(round(4/3, 2))\n",
    "print(len(\"string\"))\n",
    "\n",
    "# User defined function\n",
    "def add(x, y):\n",
    "    return x + y\n",
    "\n",
    "print(\"x + y: \" + str(add(3, 5)))\n",
    "\n",
    "# Mehtods\n",
    "#list\n",
    "fam1 = [\"liz\", 1.73, \"emma\", 1.68, \"mom\", 1.71, \"dad\", 1.89] \n",
    "print(fam1.index(\"emma\"))\n",
    "print(fam1.count(1.71))\n",
    "fam1.append(\"me\")\n",
    "print(fam1)\n",
    "fam1.clear()\n",
    "print(fam1)\n",
    "\n",
    "#string\n",
    "sister = \"liz\"\n",
    "print(sister.capitalize())\n",
    "print(sister.replace('z', 'sa'))\n",
    "\n",
    "fruit_str = \"apple banana pear strawberry watermelon peach\"\n",
    "fruit_list = fruit_str.split()\n",
    "print(fruit_list)"
   ]
  },
  {
   "cell_type": "markdown",
   "metadata": {},
   "source": [
    "## Run the program and complete the following exercises. (20 points)\n",
    "1. (8 points) Write a program to calculate BMI. \n",
    "    The Body Mass Index (BMI) formula is defined as follows:\n",
    "\n",
    "    $BMI = 703 \\times \\frac{Weight(lbs)}{Height(in)^{2}}$\n",
    "    Complete the code in the following code cell to\n",
    "    - Define a function (CalculateBMI) to calculate the BMI value with two parameters(weight and height) and return the BMI value to the caller. \n",
    "    - Ask the user to input weight in pounds and height in inches.\n",
    "    - Call CalculateBMI function and print the BMI value to the screen.\n",
    "    - Provide necessary prompt to the user to earn full credits."
   ]
  },
  {
   "cell_type": "code",
   "execution_count": 6,
   "metadata": {},
   "outputs": [
    {
     "name": "stdin",
     "output_type": "stream",
     "text": [
      "Enter your weight in pounds:  124\n",
      "Enter your height in inches:  5\n"
     ]
    },
    {
     "name": "stdout",
     "output_type": "stream",
     "text": [
      "Your bmi is: 3486.88\n"
     ]
    }
   ],
   "source": [
    "# Define the CalculateBMI function\n",
    "def CalculateBMI(weight_in_pounds, height_in_inches):\n",
    "    bmi = 703 * (weight_in_pounds / (height_in_inches ** 2))\n",
    "\n",
    "  # return the BMI value.\n",
    "    return bmi\n",
    "\n",
    "\n",
    "def main():\n",
    "  \n",
    "  # Prompt the user to enter their weight and height.\n",
    "    weight = float(input(\"Enter your weight in pounds: \"))\n",
    "    height = float(input(\"Enter your height in inches: \"))\n",
    "\n",
    "  # Calculate the BMI value.\n",
    "    bmi = CalculateBMI(weight, height)\n",
    "\n",
    "  # Print the BMI value to the screen.\n",
    "    print(\"Your bmi is:\", bmi)\n",
    "\n",
    "\n",
    "if __name__ == \"__main__\":\n",
    "  main()\n",
    "\n"
   ]
  },
  {
   "cell_type": "markdown",
   "metadata": {},
   "source": [
    "2. (12 points) Write a program to convert numbers to name of a month. Complete the code in the following code cell to\n",
    "    - Define a dictionary for month names, so when a user input a number as the key, it will return the name of the month as the value. For example, key: 1, value: January.\n",
    "    - Ask user to input numbers and your program will return the corresponding month names. \n",
    "    - Print the names to the screen.\n",
    "    - Provide necessary prompt to the user to earn full credits.<br>\n",
    "\n",
    "**Note:** \n",
    "    1. If the user input any number that is not in the range of 1 to 12, you should print error message to the user.\n",
    "    2. The user can input more than one numbers with space in between. You should be able to process multiple numbers correctly. \n",
    "    \n",
    "Sample run:\n",
    "Please input numbers for the month (1-12):\n",
    "3 5 15 11\n",
    "\n",
    "The month(s) are<br>\n",
    "March<br>\n",
    "May<br>\n",
    "15 is an invalid input<br>\n",
    "November<br>  "
   ]
  },
  {
   "cell_type": "code",
   "execution_count": 7,
   "metadata": {},
   "outputs": [
    {
     "name": "stdin",
     "output_type": "stream",
     "text": [
      "Please input numbers for the month (1-12):  12 4 55\n"
     ]
    },
    {
     "name": "stdout",
     "output_type": "stream",
     "text": [
      "The month(s) are\n",
      "December\n",
      "April\n",
      "55 is an invalid input\n"
     ]
    }
   ],
   "source": [
    "# Define the dictionary \n",
    "monthNames = {\n",
    "    1: \"January\", 2: \"February\", 3: \"March\", 4: \"April\",\n",
    "    5: \"May\", 6: \"June\", 7: \"July\", 8: \"August\",\n",
    "    9: \"September\", 10: \"October\", 11: \"November\", 12: \"December\"\n",
    "}\n",
    "\n",
    "# Ask user to input numbers\n",
    "inputData = input(\"Please input numbers for the month (1-12): \")\n",
    "numbers = inputData.split()\n",
    "\n",
    "# Loop through the numbers and output the corresponding month name to the screen\n",
    "print(\"The month(s) are\")\n",
    "for num_str in numbers:\n",
    "    try:\n",
    "        num = int(num_str)\n",
    "        if 1 <= num <= 12:\n",
    "            print(monthNames[num])\n",
    "        else:\n",
    "            print(f\"{num} is an invalid input\")\n",
    "    except ValueError:\n",
    "        print(f\"Invalid input: {num_str} (not a valid number)\")"
   ]
  },
  {
   "cell_type": "markdown",
   "metadata": {},
   "source": [
    "3. Complete and test your code. Submit this file to the Blackboard. "
   ]
  }
 ],
 "metadata": {
  "kernelspec": {
   "display_name": "Python 3 (ipykernel)",
   "language": "python",
   "name": "python3"
  },
  "language_info": {
   "codemirror_mode": {
    "name": "ipython",
    "version": 3
   },
   "file_extension": ".py",
   "mimetype": "text/x-python",
   "name": "python",
   "nbconvert_exporter": "python",
   "pygments_lexer": "ipython3",
   "version": "3.9.12"
  }
 },
 "nbformat": 4,
 "nbformat_minor": 4
}
