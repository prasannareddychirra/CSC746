{
 "cells": [
  {
   "cell_type": "markdown",
   "metadata": {},
   "source": [
    "# Import libraries\n",
    "\n",
    "- Please check the online documents for imported libraries if you are not familiar with them.<br>\n",
    "    https://docs.python.org/3/library/\n",
    "- You do not need to modify the following code cell, but you need to run this cell first before you start coding."
   ]
  },
  {
   "cell_type": "code",
   "execution_count": 10,
   "metadata": {},
   "outputs": [],
   "source": [
    "import collections\n",
    "import math\n",
    "from typing import Any, DefaultDict, List, Set, Tuple\n",
    "\n",
    "# Custom Types\n",
    "\n",
    "\"\"\"\n",
    "You can think of the keys of the defaultdict as representing the positions in the sparse vector,\n",
    "while the values represent the elements at those positions. Any key which is absent from the dict means that\n",
    "that element in the sparse vector is absent (is zero). Note that the type of the key used should not affect the\n",
    "algorithm. You can imagine the keys to be integer indices (e.x. 0, 1, 2) in the sparse vectors, but it should work\n",
    "the same way with arbitrary keys (e.x. \"red\", \"blue\", \"green\").\n",
    "\"\"\"\n",
    "SparseVector = DefaultDict[Any, float]\n",
    "Position = Tuple[int, int]"
   ]
  },
  {
   "cell_type": "markdown",
   "metadata": {},
   "source": [
    "## Problem 1 (3 points): Find the last word in a sentence in alphabetically order\n",
    "Given a string, return the word in the string that comes last lexicographically (i.e. the word that would come last when sorting). A word is defined by a maximal sequence of characters without whitespaces. You might find max() handy here.<br>\n",
    "**Note:** The datatypes that annotate parameters and return value are not required, but they clarify the function declaration and make the code easier to understand.  <br>\n",
    "\n",
    "Sample run:<br>\n",
    "Please input a sentence: I went to the zoo last weekend<br>\n",
    "The last word: zoo"
   ]
  },
  {
   "cell_type": "code",
   "execution_count": 11,
   "metadata": {},
   "outputs": [
    {
     "name": "stdin",
     "output_type": "stream",
     "text": [
      "Please provide the input here:   I went to the zoo last weekend\n"
     ]
    },
    {
     "name": "stdout",
     "output_type": "stream",
     "text": [
      "last word: zoo\n"
     ]
    }
   ],
   "source": [
    "def find_alphabetically_last_word(text: str) -> str:\n",
    "    \n",
    "    # Define the function here\n",
    "    words = text.split(\" \")\n",
    "    # return max(words, key=str.casefold)\n",
    "    end_word = max(words)\n",
    "    return end_word\n",
    "# Run your testing code here\n",
    "user_input = input(\"Please provide the input here: \")\n",
    "result = find_alphabetically_last_word(user_input)\n",
    "print(\"last word:\", result)\n",
    "\n",
    "\n"
   ]
  },
  {
   "cell_type": "markdown",
   "metadata": {},
   "source": [
    "## Problem 2 (4 points): Find the Euclidean distance between two locations\n",
    "Return the Euclidean distance between two locations, where the locations are pairs of numbers (e.g., (3, 5)).<br>\n",
    "The formula of the Euclidean distance between (a,b) and (c,d) is defined as follows: <br>\n",
    "    $distance = \\sqrt{(a-c)^2 + (b-d)^2} $ <br>\n",
    "**Note:** Please remember to round your result to one decimal place.\n",
    "\n",
    "Sample run:<br>\n",
    "The distance is 5.0"
   ]
  },
  {
   "cell_type": "code",
   "execution_count": 17,
   "metadata": {},
   "outputs": [
    {
     "name": "stdout",
     "output_type": "stream",
     "text": [
      "The distance is : 5.0\n"
     ]
    }
   ],
   "source": [
    "def euclidean_distance(loc1: tuple, loc2: tuple) -> float:\n",
    "\n",
    "    # Define the function here\n",
    "    a, b = loc1\n",
    "    c, d = loc2\n",
    "    distance = ((a - c) ** 2 + (b - d) ** 2) ** 0.5\n",
    "    return round(distance, 1)\n",
    "\n",
    "# Testing code is provided\n",
    "print(\"The distance is : \" + str(euclidean_distance((0,0),(3,4))))"
   ]
  },
  {
   "cell_type": "markdown",
   "metadata": {},
   "source": [
    "## Problem 3 (5 points): Vector Calculation I\n",
    "Given two sparse vectors (vectors where most of the elements are zeros) |v1| and |v2|, each represented as collections.defaultdict(Any, float), return their dot product. \n",
    "\n",
    "**Note:** A sparse vector has most of its entries as 0\n",
    "\n",
    "Sample result:<br>\n",
    "if v1 is {'a': 5, 'c':6, 'b': 4}, v2 is {'b': 2, 'a': 3, 'd': 7}, then the dot product is $(5 \\times 3) + (4 \\times 2) + (6 \\times 0) + (0 \\times 7) = 23$."
   ]
  },
  {
   "cell_type": "code",
   "execution_count": 19,
   "metadata": {},
   "outputs": [
    {
     "name": "stdout",
     "output_type": "stream",
     "text": [
      "The dot product is 23\n"
     ]
    }
   ],
   "source": [
    " def sparse_vector_dot_product(v1: SparseVector, v2: SparseVector) -> float:\n",
    "    # Define the function here    \n",
    "    sum = 0\n",
    "    for key in v1:\n",
    "        if key in v2:\n",
    "            sum += v1[key] * v2[key]\n",
    "\n",
    "    return sum\n",
    "\n",
    "# Testing code\n",
    "x = collections.defaultdict(float, {\"a\": 5, \"c\": 6, \"b\": 4})\n",
    "y = collections.defaultdict(float, {\"b\": 2, \"a\": 3, \"d\": 7})\n",
    "\n",
    "print(\"The dot product is \" + str(sparse_vector_dot_product(x, y)))"
   ]
  },
  {
   "cell_type": "markdown",
   "metadata": {},
   "source": [
    "## Problem 4 (6 points): Vector Calculation II\n",
    "Given two sparse vectors |v1| and |v2|, perform v1 += scale * v2. \n",
    "**Note:** This function should MODIFY v1 in-place, but not return it. Do not modify v2 in your implementation.\n",
    "\n",
    "Sample result:<br>\n",
    "if v1 is {'a': 5, 'c':6, 'b': 4}, v2 is {'b': 2, 'a': 3, 'd': 7}, and scale is 2, then v1's final value should be {'a': 11.0, 'c': 6.0, 'b': 8.0, 'd': 14.0}."
   ]
  },
  {
   "cell_type": "code",
   "execution_count": 18,
   "metadata": {},
   "outputs": [
    {
     "name": "stdout",
     "output_type": "stream",
     "text": [
      "v1 before increment: defaultdict(<class 'float'>, {'a': 5, 'c': 6, 'b': 4})\n",
      "v1 after increment: defaultdict(<class 'float'>, {'a': 11.0, 'c': 6, 'b': 8.0, 'd': 14.0})\n"
     ]
    }
   ],
   "source": [
    "def increment_sparse_vector(v1: SparseVector, scale: float, v2: SparseVector) -> None:\n",
    "\n",
    "    # Define the function here\n",
    "    for key in v2:\n",
    "        v1[key] = float(v1[key]) + scale * v2[key]\n",
    "\n",
    "# Testing code\n",
    "v1 = collections.defaultdict(float, {'a': 5, 'c': 6, 'b': 4})\n",
    "v2 = collections.defaultdict(float, {'b': 2, 'a': 3, 'd': 7})\n",
    "scale = 2\n",
    "\n",
    "print(\"v1 before increment:\", v1)\n",
    "increment_sparse_vector(v1, scale, v2)\n",
    "print(\"v1 after increment:\", v1)\n"
   ]
  },
  {
   "cell_type": "markdown",
   "metadata": {},
   "source": [
    "## Problem 5 (6 points): Find singleton words\n",
    "Splits the string by whitespace and returns the set of words that occur exactly once. You might find it's useful to use collections.defaultdict(int).<br>\n",
    "\n",
    "Sample run:<br>\n",
    "{'now', 'without', 'you', \"I'm\"}"
   ]
  },
  {
   "cell_type": "code",
   "execution_count": 14,
   "metadata": {},
   "outputs": [
    {
     "name": "stdout",
     "output_type": "stream",
     "text": [
      "{'without', 'you', 'now', \"I'm\"}\n"
     ]
    }
   ],
   "source": [
    "def find_singleton_words(text: str) -> Set[str]:\n",
    "\n",
    "    # Define the function here\n",
    "    word_count = collections.defaultdict(int)\n",
    "    words = text.split()\n",
    "    \n",
    "    for word in words:\n",
    "        word_count[word] += 1\n",
    "    \n",
    "    singleton_words = set()\n",
    "    for word, count in word_count.items():\n",
    "        if count == 1:\n",
    "            singleton_words.add(word)\n",
    "    \n",
    "    return singleton_words\n",
    "    \n",
    "# Testing code is provided\n",
    "print(find_singleton_words(\"blue blue my world is blue blue is my world now I'm without you\"))"
   ]
  },
  {
   "cell_type": "markdown",
   "metadata": {},
   "source": [
    "(1 point) Complete and test your code. Following the instruction to submit this file to the Blackboard."
   ]
  }
 ],
 "metadata": {
  "kernelspec": {
   "display_name": "Python 3 (ipykernel)",
   "language": "python",
   "name": "python3"
  },
  "language_info": {
   "codemirror_mode": {
    "name": "ipython",
    "version": 3
   },
   "file_extension": ".py",
   "mimetype": "text/x-python",
   "name": "python",
   "nbconvert_exporter": "python",
   "pygments_lexer": "ipython3",
   "version": "3.9.12"
  }
 },
 "nbformat": 4,
 "nbformat_minor": 4
}
